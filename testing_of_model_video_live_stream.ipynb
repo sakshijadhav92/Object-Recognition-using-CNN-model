{
 "cells": [
  {
   "cell_type": "code",
   "execution_count": 1,
   "id": "227405a8",
   "metadata": {},
   "outputs": [],
   "source": [
    "import numpy as np\n",
    "import cv2\n",
    "import matplotlib.pyplot as plt\n",
    "from keras import models\n",
    "import keras.backend as K\n",
    "import tensorflow as tf\n",
    "from sklearn.metrics import f1_score\n",
    "import requests\n",
    "import xmltodict\n",
    "import json"
   ]
  },
  {
   "cell_type": "code",
   "execution_count": 2,
   "id": "bf5d11d5",
   "metadata": {},
   "outputs": [],
   "source": [
    "plateCascade = cv2.CascadeClassifier('indian_license_plate.xml')"
   ]
  },
  {
   "cell_type": "code",
   "execution_count": 3,
   "id": "e2e0c7d7",
   "metadata": {},
   "outputs": [],
   "source": [
    "#detect the plate and return car + plate image\n",
    "def plate_detect(img):\n",
    "    plateImg = img.copy()\n",
    "    roi = img.copy()\n",
    "    plate_part = np.array([])\n",
    "    plateRect = plateCascade.detectMultiScale(plateImg,scaleFactor = 1.2, minNeighbors = 7)\n",
    "    for (x,y,w,h) in plateRect:\n",
    "        roi_ = roi[y:y+h, x:x+w, :]\n",
    "        plate_part = roi[y:y+h, x:x+w, :]\n",
    "        cv2.rectangle(plateImg,(x+2,y),(x+w-3, y+h-5),(0,255,0),3)\n",
    "    #print(type(roi))\n",
    "    #print(roi.shape)\n",
    "    return plateImg, plate_part"
   ]
  },
  {
   "cell_type": "code",
   "execution_count": 4,
   "id": "eb34953d",
   "metadata": {},
   "outputs": [],
   "source": [
    "#normal function to display \n",
    "def display_img(img):\n",
    "    img_ = cv2.cvtColor(img,cv2.COLOR_BGR2RGB)\n",
    "    plt.imshow(img_)\n",
    "    plt.show()"
   ]
  },
  {
   "cell_type": "code",
   "execution_count": 5,
   "id": "5f7b1afa",
   "metadata": {},
   "outputs": [],
   "source": [
    "def find_contours(dimensions, img) :\n",
    "\n",
    "    #finding all contours in the image using \n",
    "    #retrieval mode: RETR_TREE\n",
    "    #contour approximation method: CHAIN_APPROX_SIMPLE\n",
    "    cntrs, _ = cv2.findContours(img.copy(), cv2.RETR_TREE, cv2.CHAIN_APPROX_SIMPLE)\n",
    "\n",
    "    #Approx dimensions of the contours\n",
    "    lower_width = dimensions[0]\n",
    "    upper_width = dimensions[1]\n",
    "    lower_height = dimensions[2]\n",
    "    upper_height = dimensions[3]\n",
    "    \n",
    "    #Check largest 15 contours for license plate character respectively\n",
    "    cntrs = sorted(cntrs, key=cv2.contourArea, reverse=True)[:15]\n",
    "    \n",
    "    ci = cv2.imread('contour.jpg')\n",
    "    \n",
    "    x_cntr_list = []\n",
    "    target_contours = []\n",
    "    img_res = []\n",
    "    for cntr in cntrs :\n",
    "        #detecting contour in binary image and returns the coordinates of rectangle enclosing it\n",
    "        intX, intY, intWidth, intHeight = cv2.boundingRect(cntr)\n",
    "        \n",
    "        #checking the dimensions of the contour to filter out the characters by contour's size\n",
    "        if intWidth > lower_width and intWidth < upper_width and intHeight > lower_height and intHeight < upper_height :\n",
    "            x_cntr_list.append(intX) \n",
    "            char_copy = np.zeros((44,24))\n",
    "            #extracting each character using the enclosing rectangle's coordinates.\n",
    "            char = img[intY:intY+intHeight, intX:intX+intWidth]\n",
    "            char = cv2.resize(char, (20, 40))\n",
    "            cv2.rectangle(ci, (intX,intY), (intWidth+intX, intY+intHeight), (50,21,200), 2)\n",
    "            #plt.imshow(ci, cmap='gray')\n",
    "            char = cv2.subtract(255, char)\n",
    "            char_copy[2:42, 2:22] = char\n",
    "            char_copy[0:2, :] = 0\n",
    "            char_copy[:, 0:2] = 0\n",
    "            char_copy[42:44, :] = 0\n",
    "            char_copy[:, 22:24] = 0\n",
    "            img_res.append(char_copy) # List that stores the character's binary image (unsorted)\n",
    "            \n",
    "    #return characters on ascending order with respect to the x-coordinate\n",
    "            \n",
    "    #plt.show()\n",
    "    #arbitrary function that stores sorted list of character indeces\n",
    "    indices = sorted(range(len(x_cntr_list)), key=lambda k: x_cntr_list[k])\n",
    "    img_res_copy = []\n",
    "    for idx in indices:\n",
    "        img_res_copy.append(img_res[idx])# stores character images according to their index\n",
    "    img_res = np.array(img_res_copy)\n",
    "\n",
    "    return img_res"
   ]
  },
  {
   "cell_type": "code",
   "execution_count": 6,
   "id": "2ca7781d",
   "metadata": {},
   "outputs": [],
   "source": [
    "def segment_characters(image) :\n",
    "\n",
    "    #pre-processing cropped image of plate\n",
    "    #threshold: convert to pure b&w with sharpe edges\n",
    "    #erod: increasing the backgroung black\n",
    "    #dilate: increasing the char white\n",
    "    img_lp = cv2.resize(image, (333, 75))\n",
    "    img_gray_lp = cv2.cvtColor(img_lp, cv2.COLOR_BGR2GRAY)\n",
    "    _, img_binary_lp = cv2.threshold(img_gray_lp, 200, 255, cv2.THRESH_BINARY+cv2.THRESH_OTSU)\n",
    "    img_binary_lp = cv2.erode(img_binary_lp, (3,3))\n",
    "    img_binary_lp = cv2.dilate(img_binary_lp, (3,3))\n",
    "\n",
    "    LP_WIDTH = img_binary_lp.shape[0]\n",
    "    LP_HEIGHT = img_binary_lp.shape[1]\n",
    "    img_binary_lp[0:3,:] = 255\n",
    "    img_binary_lp[:,0:3] = 255\n",
    "    img_binary_lp[72:75,:] = 255\n",
    "    img_binary_lp[:,330:333] = 255\n",
    "\n",
    "    #estimations of character contours sizes of cropped license plates\n",
    "    dimensions = [LP_WIDTH/6,\n",
    "                       LP_WIDTH/2,\n",
    "                       LP_HEIGHT/10,\n",
    "                       2*LP_HEIGHT/3]\n",
    "    #plt.imshow(img_binary_lp, cmap='gray')\n",
    "    #plt.show()\n",
    "    cv2.imwrite('contour.jpg',img_binary_lp)\n",
    "\n",
    "    #getting contours\n",
    "    char_list = find_contours(dimensions, img_binary_lp)\n",
    "\n",
    "    return char_list"
   ]
  },
  {
   "cell_type": "code",
   "execution_count": 7,
   "id": "93536989",
   "metadata": {},
   "outputs": [],
   "source": [
    "#It is the harmonic mean of precision and recall\n",
    "#Output range is [0, 1]\n",
    "#Works for both multi-class and multi-label classification\n",
    "\n",
    "def f1score(y, y_pred):\n",
    "    return f1_score(y, tf.math.argmax(y_pred, axis=1), average='micro') \n",
    "\n",
    "def custom_f1score(y, y_pred):\n",
    "    return tf.py_function(f1score, (y, y_pred), tf.double)"
   ]
  },
  {
   "cell_type": "code",
   "execution_count": 8,
   "id": "7cc7c8f9",
   "metadata": {},
   "outputs": [],
   "source": [
    " model = models.load_model('license_plate_character.pkl', custom_objects= {'custom_f1score': custom_f1score})"
   ]
  },
  {
   "cell_type": "code",
   "execution_count": 9,
   "id": "24b5d698",
   "metadata": {},
   "outputs": [],
   "source": [
    "def fix_dimension(img):\n",
    "    new_img = np.zeros((28,28,3))\n",
    "    for i in range(3):\n",
    "        new_img[:,:,i] = img\n",
    "    return new_img\n",
    "  \n",
    "def show_results(pl_char):\n",
    "    dic = {}\n",
    "    characters = '0123456789ABCDEFGHIJKLMNOPQRSTUVWXYZ'\n",
    "    for i,c in enumerate(characters):\n",
    "        dic[i] = c\n",
    "\n",
    "    output = []\n",
    "    for i,ch in enumerate(pl_char): \n",
    "        img_ = cv2.resize(ch, (28,28), interpolation=cv2.INTER_AREA)\n",
    "        img = fix_dimension(img_)\n",
    "        img = img.reshape(1,28,28,3)\n",
    "        y_ = model.predict_classes(img)[0]\n",
    "        character = dic[y_] #\n",
    "        output.append(character) \n",
    "        \n",
    "    plate_number = ''.join(output)\n",
    "    \n",
    "    return plate_number\n",
    "\n",
    "# final_plate = show_results(char)\n",
    "# print(final_plate)"
   ]
  },
  {
   "cell_type": "code",
   "execution_count": 10,
   "id": "c9a3f2e4",
   "metadata": {},
   "outputs": [],
   "source": [
    "def get_vehicle_info(plate_number):\n",
    "    r = requests.get(\"http://www.regcheck.org.uk/api/reg.asmx/CheckIndia?RegistrationNumber={0}&username=licenseguy3\".format(str(plate_number)))\n",
    "    data = xmltodict.parse(r.content)\n",
    "    jdata = json.dumps(data)\n",
    "    df = json.loads(jdata)\n",
    "    df1 = json.loads(df['Vehicle']['vehicleJson'])\n",
    "    return df1\n"
   ]
  },
  {
   "cell_type": "code",
   "execution_count": 11,
   "id": "65234dc1",
   "metadata": {},
   "outputs": [],
   "source": [
    "import re\n",
    "def plate_info(numberPlate):\n",
    "    pattern = '^[A-Z]{2}[0-9]{1,2}([A-Z])?([A-Z]*)?[0-9]{4}$'\n",
    "    if len(numberPlate) > 10:\n",
    "        numberPlate = numberPlate[-10:]\n",
    "        return get_vehicle_info(numberPlate)\n",
    "#     else:\n",
    "#         return get_vehicle_info(numberPlate)\n",
    "    elif re.match(pattern,numberPlate) != None:\n",
    "        return get_vehicle_info(numberPlate)\n",
    "    else:\n",
    "        return None"
   ]
  },
  {
   "cell_type": "code",
   "execution_count": 12,
   "id": "179d4287",
   "metadata": {},
   "outputs": [
    {
     "name": "stderr",
     "output_type": "stream",
     "text": [
      "C:\\Users\\Admin\\anaconda3\\lib\\site-packages\\keras\\engine\\sequential.py:450: UserWarning: `model.predict_classes()` is deprecated and will be removed after 2021-01-01. Please use instead:* `np.argmax(model.predict(x), axis=-1)`,   if your model does multi-class classification   (e.g. if it uses a `softmax` last-layer activation).* `(model.predict(x) > 0.5).astype(\"int32\")`,   if your model does binary classification   (e.g. if it uses a `sigmoid` last-layer activation).\n",
      "  warnings.warn('`model.predict_classes()` is deprecated and '\n"
     ]
    },
    {
     "ename": "IndexError",
     "evalue": "list index out of range",
     "output_type": "error",
     "traceback": [
      "\u001b[1;31m---------------------------------------------------------------------------\u001b[0m",
      "\u001b[1;31mIndexError\u001b[0m                                Traceback (most recent call last)",
      "\u001b[1;32m<ipython-input-12-72bfcef0e14d>\u001b[0m in \u001b[0;36m<module>\u001b[1;34m\u001b[0m\n\u001b[0;32m     26\u001b[0m         \u001b[1;32mbreak\u001b[0m\u001b[1;33m\u001b[0m\u001b[1;33m\u001b[0m\u001b[0m\n\u001b[0;32m     27\u001b[0m \u001b[1;33m\u001b[0m\u001b[0m\n\u001b[1;32m---> 28\u001b[1;33m \u001b[0mprint\u001b[0m\u001b[1;33m(\u001b[0m\u001b[0minfo_list\u001b[0m\u001b[1;33m[\u001b[0m\u001b[1;36m0\u001b[0m\u001b[1;33m]\u001b[0m\u001b[1;33m)\u001b[0m\u001b[1;33m\u001b[0m\u001b[1;33m\u001b[0m\u001b[0m\n\u001b[0m\u001b[0;32m     29\u001b[0m \u001b[0mcam\u001b[0m\u001b[1;33m.\u001b[0m\u001b[0mrelease\u001b[0m\u001b[1;33m(\u001b[0m\u001b[1;33m)\u001b[0m\u001b[1;33m\u001b[0m\u001b[1;33m\u001b[0m\u001b[0m\n\u001b[0;32m     30\u001b[0m \u001b[0mcv2\u001b[0m\u001b[1;33m.\u001b[0m\u001b[0mdestroyAllWindows\u001b[0m\u001b[1;33m(\u001b[0m\u001b[1;33m)\u001b[0m\u001b[1;33m\u001b[0m\u001b[1;33m\u001b[0m\u001b[0m\n",
      "\u001b[1;31mIndexError\u001b[0m: list index out of range"
     ]
    }
   ],
   "source": [
    "cam = cv2.VideoCapture(\"video.mov\") #video.mp4 have to be yours\n",
    "if cam.isOpened() == False:\n",
    "    print(\"Video not imported\")\n",
    "\n",
    "plate_list = []  \n",
    "info_list = []\n",
    "while(cam.isOpened()):\n",
    "    ret, frame = cam.read()\n",
    "    if ret == True:\n",
    "        car_plate, plate_img = plate_detect(frame)\n",
    "        cv2.imshow(\"License Video\",car_plate)\n",
    "        if len(plate_img) > 0:\n",
    "            plate_char = segment_characters(plate_img)\n",
    "            #print(plate_char)\n",
    "            number_plate = show_results(plate_char)\n",
    "            if number_plate not in plate_list:\n",
    "                final_result = plate_info(number_plate)\n",
    "                if final_result != None:\n",
    "                    plate_list.append(number_plate)\n",
    "                    info_list.append(final_result)\n",
    "                #print(final_result)\n",
    "                \n",
    "        if cv2.waitKey(1) == 27:\n",
    "            break\n",
    "    else:\n",
    "        break\n",
    "\n",
    "print(info_list[0])\n",
    "cam.release()\n",
    "cv2.destroyAllWindows()\n"
   ]
  },
  {
   "cell_type": "code",
   "execution_count": null,
   "id": "bf574b25",
   "metadata": {},
   "outputs": [],
   "source": []
  }
 ],
 "metadata": {
  "kernelspec": {
   "display_name": "Python 3",
   "language": "python",
   "name": "python3"
  },
  "language_info": {
   "codemirror_mode": {
    "name": "ipython",
    "version": 3
   },
   "file_extension": ".py",
   "mimetype": "text/x-python",
   "name": "python",
   "nbconvert_exporter": "python",
   "pygments_lexer": "ipython3",
   "version": "3.8.8"
  }
 },
 "nbformat": 4,
 "nbformat_minor": 5
}
